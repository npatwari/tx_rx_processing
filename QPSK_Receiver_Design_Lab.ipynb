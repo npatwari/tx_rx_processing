{
 "cells": [
  {
   "cell_type": "markdown",
   "id": "1652e148-1eb6-40e1-980b-07c290d65152",
   "metadata": {
    "id": "dae9c1f9"
   },
   "source": [
    "# Synchronize to and Demodulate a QPSK Packet Received on POWDER\n",
    "\n",
    "> Authors (alphabetical order):\n",
    "> - Cassie Jeng\n",
    "> - Neal Patwari\n",
    "> - Aarti Singh\n",
    "> - Jie Wang\n",
    "> - Meles Gebreyesus Weldegebriel\n",
    "\n",
    "Sept 2025, Version 0.3\n",
    "\n",
    "This python notebook provides code to operate a QPSK demodulator in postprocesing for a signal recorded at a POWDER receiver. This includes perform frequency, phase, and symbol synchronization.  \n",
    "\n",
    "Look for the raised hand icon ✋ to see things you need to change or check in order to successfully complete this receiver code. This receiver won't run if you don't complete these sections!\n",
    "\n",
    "You will first upload the received data zip file.\n",
    "\n",
    "## Setup this Python Environment\n",
    "\n",
    "✋ First, go to the file menu on the colab File menu and `Save a Copy in Drive`.  This is because the original shared doc is a read only copy.\n",
    "\n",
    "This python notebook came from [our github tx_rx_processing project page](https://github.com/npatwari/tx_rx_processing).  \n",
    "\n",
    "The following instructions assume you have the measurement zip file(s) from a run of Shout for a QPSK transmitter. For CyberPowder, this is on the Canvas `IH3: Hands-on Receiver Design` Page.\n",
    "\n",
    "In colab, we have to upload any file that colab needs besides this .ipynb file.  In particular we need to load the data files.  Currently colab requires us to upload one file at a time.  Because we're impatient, we zipped all of the data files together, and we'll upload that one zip file, and then unzip it.\n",
    "\n",
    "To upload the file:\n",
    " - **Click on the folder icon** at the leftmost column of this page.  Then, you should see a `..` folder and a `sample_data` folder, and four icons above that directory listing.\n",
    " - **Click on the Upload icon**, which looks like a piece of paper with an up arrow on it.  \n",
    " - **Select and upload** the `<your-file-name>.zip` file (change to whatever your measurement zip file is called). It asks you to confirm that it will delete them when your session expires (which means you need to do it again if the session expires).  Click OK.\n",
    " - **Run the exec command below** (`!unzip <your-file-name>.zip`, where you type in your file's name); and then wait for it to upload, which may take a few seconds.\n"
   ]
  },
  {
   "cell_type": "code",
   "execution_count": null,
   "id": "Ak9Su1InoXVG",
   "metadata": {
    "id": "Ak9Su1InoXVG"
   },
   "outputs": [],
   "source": [
    "!unzip Shout_meas_<the rest of your filename>.zip"
   ]
  },
  {
   "cell_type": "markdown",
   "id": "iD7lIoIVognW",
   "metadata": {
    "id": "iD7lIoIVognW"
   },
   "source": [
    "General info about Colab from Google:\n",
    "\n",
    "> To execute the code in any cell, select it with a click and then either press the play button to the left of the code, or use the keyboard shortcut \"Command/Ctrl+Enter\". To edit the code, just click the cell and start editing.\n",
    "\n",
    "\n",
    "### Import Libraries"
   ]
  },
  {
   "cell_type": "code",
   "execution_count": null,
   "id": "4fe9e733",
   "metadata": {
    "id": "4fe9e733"
   },
   "outputs": [],
   "source": [
    "import json\n",
    "import math\n",
    "import numpy as np\n",
    "from scipy import signal\n",
    "import h5py\n",
    "import matplotlib.pyplot as plt\n",
    "from matplotlib import rc\n",
    "import datetime\n",
    "import scipy.signal as signal\n",
    "rc('xtick', labelsize=14)\n",
    "rc('ytick', labelsize=14)"
   ]
  },
  {
   "cell_type": "markdown",
   "id": "8a9b9016",
   "metadata": {
    "id": "8a9b9016"
   },
   "source": [
    "## Load recorded data into the environment\n",
    "\n",
    "Here we define some functions that load the measured data and the Shout metadata about the recording from the hdf5 file."
   ]
  },
  {
   "cell_type": "code",
   "execution_count": null,
   "id": "cc2c7af4",
   "metadata": {
    "id": "cc2c7af4"
   },
   "outputs": [],
   "source": [
    "def get_time_string(timestamp):\n",
    "    '''\n",
    "    Helper function to get data and time from timestamp\n",
    "    INPUT: timestamp\n",
    "    OUTPUT: data and time. Example: 01-04-2023, 19:50:27\n",
    "    '''\n",
    "    date_time = datetime.datetime.fromtimestamp(int(timestamp))\n",
    "    return date_time.strftime(\"%m-%d-%Y, %H:%M:%S\")\n",
    "\n",
    "def JsonLoad(folder, json_file):\n",
    "    '''\n",
    "    Load parameters from the saved json file\n",
    "    INPUT\n",
    "    ----\n",
    "        folder: path to the measurement folder. Example: \"SHOUT/Results/Shout_meas_01-04-2023_18-50-26\"\n",
    "        json_file: the json file with all the specifications. Example: '/save_iq_w_tx_gold.json'\n",
    "    OUTPUT\n",
    "    ----\n",
    "        samps_per_chip: samples per chip\n",
    "        wotxrepeat: number of repeating IQ sample collection w/o transmission. Used as an input to\n",
    "        traverse_dataset() func\n",
    "        rxrate: sampling rate at the receiver side\n",
    "    '''\n",
    "    config_file = folder+'/'+json_file\n",
    "    config_dict = json.load(open(config_file))[0]\n",
    "    nsamps = config_dict['nsamps']\n",
    "    rxrate = config_dict['rxrate']\n",
    "    rxfreq = config_dict['rxfreq']\n",
    "    wotxrepeat = config_dict['wotxrepeat']\n",
    "    rxrepeat = config_dict['rxrepeat']\n",
    "    txnodes = config_dict['txclients']\n",
    "    rxnodes = config_dict['rxclients']\n",
    "\n",
    "    return rxrepeat, rxrate, txnodes, rxnodes\n",
    "\n",
    "def traverse_dataset(meas_folder):\n",
    "    '''\n",
    "    Load data from hdf5 format measurement file\n",
    "    INPUT\n",
    "    ----\n",
    "        meas_folder: path to the measurement folder. Example: \"SHOUT/Results/Shout_meas_01-04-2023_18-50-26\"\n",
    "    OUTPUT\n",
    "    ----\n",
    "        data: Collected IQ samples w/ transmission. It is indexed by the transmitter name\n",
    "        noise: Collected IQ samples w/o transmission. It is indexed by the transmitter name\n",
    "        txrxloc: transmitter and receiver names\n",
    "    '''\n",
    "    data = {}\n",
    "    noise = {}\n",
    "    txrxloc = {}\n",
    "\n",
    "    dataset = h5py.File(meas_folder + '/measurements.hdf5', \"r\") #meas_folder\n",
    "    print(\"Dataset meta data:\", list(dataset.attrs.items()))\n",
    "    for cmd in dataset.keys():\n",
    "        print(\"Command:\", cmd)\n",
    "        if cmd == 'saveiq':\n",
    "            cmd_time = list(dataset[cmd].keys())[0]\n",
    "            print(\"  Timestamp:\", get_time_string(cmd_time))\n",
    "            print(\"  Command meta data:\", list(dataset[cmd][cmd_time].attrs.items()))\n",
    "            for rx_gain in dataset[cmd][cmd_time].keys():\n",
    "                print(\"   RX gain:\", rx_gain)\n",
    "                for rx in dataset[cmd][cmd_time][rx_gain].keys():\n",
    "                    print(\"     RX:\", rx)\n",
    "                    print(\"       Measurement items:\", list(dataset[cmd][cmd_time][rx_gain][rx].keys()))\n",
    "        elif cmd == 'saveiq_w_tx':\n",
    "            cmd_time = list(dataset[cmd].keys())[0]\n",
    "            print(\"  Timestamp:\", get_time_string(cmd_time))\n",
    "            print(\"  Command meta data:\", list(dataset[cmd][cmd_time].attrs.items()))\n",
    "            for tx in dataset[cmd][cmd_time].keys():\n",
    "                print(\"   TX:\", tx)\n",
    "\n",
    "                if tx == 'wo_tx':\n",
    "                    for rx_gain in dataset[cmd][cmd_time][tx].keys():\n",
    "                        print(\"       RX gain:\", rx_gain)\n",
    "                        #print(dataset[cmd][cmd_time][tx][rx_gain].keys())\n",
    "                        for rx in dataset[cmd][cmd_time][tx][rx_gain].keys():\n",
    "                            print(\"         RX:\", rx)\n",
    "                            #print(\"           Measurement items:\", list(dataset[cmd][cmd_time][tx][rx_gain][rx].keys()))\n",
    "                            repeat = np.shape(dataset[cmd][cmd_time][tx][rx_gain][rx]['rxsamples'])[0]\n",
    "                            print(\"         repeat\", repeat)\n",
    "\n",
    "                            samplesNotx =  dataset[cmd][cmd_time][tx][rx_gain][rx]['rxsamples'][:repeat, :]\n",
    "                            namelist = rx.split('-')\n",
    "                            noise[namelist[1]] = samplesNotx\n",
    "                else:\n",
    "                    for tx_gain in dataset[cmd][cmd_time][tx].keys():\n",
    "                        print(\"     TX gain:\", tx_gain)\n",
    "                        for rx_gain in dataset[cmd][cmd_time][tx][tx_gain].keys():\n",
    "                            print(\"       RX gain:\", rx_gain)\n",
    "                            #print(dataset[cmd][cmd_time][tx][tx_gain][rx_gain].keys())\n",
    "                            for rx in dataset[cmd][cmd_time][tx][tx_gain][rx_gain].keys():\n",
    "                                repeat = np.shape(dataset[cmd][cmd_time][tx][tx_gain][rx_gain][rx]['rxsamples'])[0]\n",
    "                                print(\"         RX:\", rx, \"; samples shape\", np.shape(dataset[cmd][cmd_time][tx][tx_gain][rx_gain][rx]['rxsamples']))\n",
    "                                #print(\"         Measurement items:\", list(dataset[cmd][cmd_time][tx][tx_gain][rx_gain][rx].keys()))\n",
    "                                # print(\"         rxloc\", (dataset[cmd][cmd_time][tx][tx_gain][rx_gain][rx]['rxloc'][0]))\n",
    "                                # peak avg check\n",
    "                                txrxloc.setdefault(tx, []).extend([rx]*repeat)\n",
    "                                rxsamples = dataset[cmd][cmd_time][tx][tx_gain][rx_gain][rx]['rxsamples'][:repeat, :]\n",
    "                                data.setdefault(tx, []).append(np.array(rxsamples))\n",
    "\n",
    "        else:\n",
    "            print('Unsupported command: ', cmd)\n",
    "\n",
    "    return data, noise, txrxloc\n",
    "\n",
    "def plotOnePSDForEachLink(rx_data, txrxloc, samp_rate=250000, repeats=4, repNum=0):\n",
    "    for txname in rx_data:\n",
    "        print(txname)\n",
    "        for i in range(0, len(rx_data[txname]), repeats):\n",
    "            plt.figure()\n",
    "            # This code arbitrarily picks the 0 rep to plot.\n",
    "            plt.psd(rx_data[txname][i][repNum], Fs = samp_rate/1000)\n",
    "            plt.ylim(-110, -60)\n",
    "            plt.yticks(ticks=[-110, -100, -90, -80, -70, -60])\n",
    "            plt.grid('on')\n",
    "            plt.title('TX: {} RX: {}'.format(txname, txrxloc[txname][i]))\n",
    "            plt.xlabel('Frequency (kHz)')\n",
    "            plt.tight_layout()\n",
    "            plt.show()"
   ]
  },
  {
   "cell_type": "markdown",
   "id": "nYzdi6nYsgbm",
   "metadata": {
    "id": "nYzdi6nYsgbm"
   },
   "source": [
    "✋ Next you put in the folder name for the hdf5 and json file, and the name of the json file.  This code then loads the IQ data from a file in this folder named measurements.hdf5 and prints info about the measurements in it.  The primary data is in the first return `rx_data`, which is a python dictionary that stores all of the complex-valued measurements, indexed by the transmitter and receiver names, and repetition number."
   ]
  },
  {
   "cell_type": "code",
   "execution_count": null,
   "id": "a39b6596",
   "metadata": {
    "colab": {
     "base_uri": "https://localhost:8080/"
    },
    "id": "a39b6596",
    "outputId": "d8819f2d-82fb-4cf5-9a20-4f937463f090",
    "scrolled": true
   },
   "outputs": [],
   "source": [
    "# Load parameters from the JSON file which describe what was measured\n",
    "folder = \"\"\n",
    "jsonfile = 'save_iq_w_tx_file.json'\n",
    "rxrepeat, samp_rate, txlocs, rxlocs = JsonLoad(folder, jsonfile)\n",
    "# Load data from the HDF5 file, save IQ sample arrays\n",
    "rx_data, _, txrxloc = traverse_dataset(folder)\n",
    "samp_rate = 250000.0\n",
    "print(txlocs)"
   ]
  },
  {
   "cell_type": "code",
   "execution_count": null,
   "id": "e900764a",
   "metadata": {
    "id": "e900764a"
   },
   "outputs": [],
   "source": [
    "# Plot all links, but just the data from the 0th repetition\n",
    "# To change the repetition number, add repNum=n for n in the range 0 to the\n",
    "# total number of repetitions -1.\n",
    "plotOnePSDForEachLink(rx_data, txrxloc, samp_rate)"
   ]
  },
  {
   "cell_type": "markdown",
   "id": "d0d53493",
   "metadata": {
    "id": "d0d53493"
   },
   "source": [
    "## Pick Transmitter / Receiver Pair\n",
    "\n",
    "✋ Enter in the name of the transmitter (TX) and receiver (RX), and the number of the recording (from 0 to repeats-1), which you want to demodulate in the subsequent code.  In particular, set `txloc` and `rxloc` to two different node names that you saw listed above, or in one of the plots above. If you've looked through multiple `repNum`s, set the repNum to the one that is the best.\n",
    "\n",
    "Please select the link that has a high SNR, ie, difference between the noise and the signal near 0 kHz. I would guess that at least a 10 dB SNR is needed to receive the signal without bit error, but more is better. Note order matters -- TX and RX names are described above in the plot titles."
   ]
  },
  {
   "cell_type": "code",
   "execution_count": null,
   "id": "aa4d55d9",
   "metadata": {
    "id": "aa4d55d9",
    "scrolled": true
   },
   "outputs": [],
   "source": [
    "# Pick one received signal to demodulate\n",
    "txloc =   # eg., 'cbrssdr1-ustar-comp'\n",
    "rxloc =   # eg., 'cbrssdr1-meb-comp'\n",
    "repNum =   # eg., 0\n",
    "\n",
    "rx_data[txloc] = np.vstack(rx_data[txloc])\n",
    "rxloc_arr = np.array(txrxloc[txloc])\n",
    "rx0 = rx_data[txloc][rxloc_arr==rxloc][repNum]\n",
    "print('\\nLink: {} to {}. Repetition Num {}.'.format(txloc, rxloc, repNum))\n",
    "rx0.shape"
   ]
  },
  {
   "cell_type": "markdown",
   "id": "c64591b2",
   "metadata": {
    "id": "c64591b2"
   },
   "source": [
    "## Low Pass Filtering to out_of_band frequency components\n",
    "\n",
    "Since the sampling rate in our experiments is about 8 times the bandwidth of the transmitted signal, we let in a lot more noise than is required.  It is better for our synchronization methods to have a higher SNR.  So here we filter the received signal with a finite impulse response (FIR) filter.  Here we use a kaiser filter designed for our sampling and symbol rates.  Since our symbol rate is 1/8 of the sample rate, our cutoff should be more than 1/8."
   ]
  },
  {
   "cell_type": "code",
   "execution_count": null,
   "id": "bba02f16",
   "metadata": {
    "id": "bba02f16",
    "scrolled": true
   },
   "outputs": [],
   "source": [
    "# Design parameters: You can change these parameters depending on the\n",
    "# (normalized) bandwidth of the signal you have.\n",
    "stopband_attenuation = 60.0\n",
    "transition_bandwidth = 0.05\n",
    "cutoff_norm = 0.15  # normalized bandwidth of the passband\n",
    "# What order filter do we need?\n",
    "filterN, beta = signal.kaiserord(stopband_attenuation, transition_bandwidth)\n",
    "# Create the filter coefficients\n",
    "taps = signal.firwin(filterN, cutoff_norm, window=('kaiser', beta))\n",
    "# Use the filter on the received signal\n",
    "filtered_rx0 = signal.lfilter(taps, 1.0, rx0)\n",
    "\n",
    "# Plot psd of received signal before and after filtering\n",
    "plt.figure()\n",
    "fig, subfigs = plt.subplots(2,1)\n",
    "subfigs[0].psd(rx0, Fs = 240, label='Before Filtering')\n",
    "subfigs[0].legend()\n",
    "subfigs[1].psd(filtered_rx0, Fs = 240, label='After Filtering')\n",
    "subfigs[1].legend()\n",
    "plt.tight_layout()\n",
    "plt.show()"
   ]
  },
  {
   "cell_type": "markdown",
   "id": "4b5d4f99",
   "metadata": {
    "id": "4b5d4f99"
   },
   "source": [
    "## Preamble synchronization\n",
    "\n",
    "This section creates the same sampled preamble signal that is used by the transmitter in the transmitted signal.  The packet structure of the transmitted packet is:\n",
    "0. Quiet: We put 1024 zeros (complex values 0+i0) into the transmitter signal to send first.  This is so that if the receiver starts several samples late, or if the receiver must drop a certain number of samples in order to make sure that its queue is clear from the last sampling, we can still get the start of the packet.  Also it is useful to see periods of low power before a packet starts, it makes seeing the packet in signal plots easier.\n",
    "1. Preamble: The preamble is used to give the receiver time to perform frequency and symbol synchronization.  In our transmitted signal, the preamble is 16 repetitions of the bits [1, 1, 0, 0].  Because we're using QPSK (with 2 bits per symbol), these are two symbols that are opposite in phase.  The preamble is thus a total length of 64 bits or 32 symbols.\n",
    "2. Sync Word: The sync word is sent next, it is set of a pseudo random bits that allows the receiver to know exactly when the data bits start.  It does not know this from the preamble because sometimes the receiver misses the start of the preamble, so it can't count on the preamble having exactly 32 symbols.\n",
    "3. Data bits: These contain the unknown message that the transmitter wants to convey.\n",
    "\n",
    "This section finds the preamble in the received signal."
   ]
  },
  {
   "cell_type": "code",
   "execution_count": null,
   "id": "20455b12",
   "metadata": {
    "id": "20455b12"
   },
   "outputs": [],
   "source": [
    "# PURPOSE: convert input data stream to signal space values for\n",
    "#          a particular modulation type (as specified by the inputVec\n",
    "#          and outputVec).\n",
    "# INPUT: data (groups of bits)\n",
    "# OUTPUT: signal space values\n",
    "def lut(data, inputVec, outputVec):\n",
    "    if len(inputVec) != len(outputVec):\n",
    "        print('Input and Output vectors must have identical length')\n",
    "    # Initialize output\n",
    "    output = np.zeros(data.shape)\n",
    "    # For each possible data value\n",
    "    eps = np.finfo('float').eps\n",
    "    for i in range(len(inputVec)):\n",
    "        # Find the indices where data is equal to that input value\n",
    "        for k in range(len(data)):\n",
    "            if abs(data[k]-inputVec[i]) < eps:\n",
    "                # Set those indices in the output to be the appropriate output value.\n",
    "                output[k] = outputVec[i]\n",
    "    return output\n",
    "\n",
    "# PURPOSE: insert 0's between samples to oversample at OS_Rate\n",
    "# INPUT: x (data), OS_Rate (how frequently data occurs)\n",
    "# OUTPUT: x_s (oversampled data)\n",
    "def oversample(x, OS_Rate):\n",
    "    # Initialize output\n",
    "    x_s = np.zeros(len(x)*OS_Rate)\n",
    "    x_s[::OS_Rate] = x\n",
    "    return x_s\n",
    "\n",
    "# PURPOSE: create a square root raised cosine pulse shape\n",
    "# INPUT: alpha, N, Lp\n",
    "# OUTPUT: pulse wave array for srrc\n",
    "def SRRC(alpha, N, Lp):\n",
    "    # Add epsilon to the n values to avoid numerical problems\n",
    "    n = np.arange(-N*Lp+ (1e-9), N*Lp+1)\n",
    "    h = np.zeros(len(n))\n",
    "    coeff = 1/np.sqrt(N)\n",
    "    for i, each in enumerate(n):\n",
    "        sine_term = np.sin(np.pi * each * (1-alpha) / N)\n",
    "        cosine_term = np.cos(np.pi * each * (1+alpha) / N)\n",
    "        cosine_coeff = 4 * alpha * each / N\n",
    "        numerator = sine_term + (cosine_coeff * cosine_term)\n",
    "        denom_coeff = np.pi * each / N\n",
    "        denom_part = 1 - cosine_coeff**2\n",
    "        denominator = denom_coeff * denom_part\n",
    "        h[i] = coeff * numerator / denominator\n",
    "    return h\n",
    "\n",
    "# PURPOSE: Convert binary data to M-ary by making groups of log2(M)\n",
    "#          bits and converting each bit to one M-ary digit.\n",
    "# INPUT: Binary digit vector, with length as a multiple of log2(M)\n",
    "# OUTPUT: M-ary digit vector\n",
    "def binary2mary(data, M):\n",
    "\n",
    "    k   = round(np.log2(M))\n",
    "    # integer number of bits per group\n",
    "    if (len(data) % k) != 0:\n",
    "        print('Input to binary2mary must be divisible by log2(m).')\n",
    "    datacopy = np.copy(data)\n",
    "    datacopy.shape = (len(datacopy)//k, k)\n",
    "    binaryValuesArray = [2**(k-1-i) for i in range(k)]\n",
    "    #binaryValuesArray = 2**np.arange(k)\n",
    "    print(binaryValuesArray)\n",
    "    marydata = datacopy.dot(binaryValuesArray)\n",
    "    return marydata\n",
    "\n",
    "# PURPOSE: create a modulated signal with the defined preamble\n",
    "# INPUT: A (sqrt value for modulation), N, alpha, Lp (for srrc)\n",
    "# OUTPUT: modulated preamble signal & srrc pulse\n",
    "def createPreambleSignal(A, N, alpha, Lp):\n",
    "\n",
    "    # We defined the preamble as this repeating bit signal:\n",
    "    preamble     = np.tile([1, 1, 0, 0], 16)\n",
    "\n",
    "    ###########################################\n",
    "    ### Signal Generation\n",
    "    ### INPUT: binary data\n",
    "    ### OUTPUT: 4-ary data (0..3) values\n",
    "    data = binary2mary(preamble, 4)\n",
    "\n",
    "    ###########################################\n",
    "    ### Modulation\n",
    "    ### INPUT: data\n",
    "    ### OUTPUT: modulated values, x\n",
    "    inputVec   = [0, 1, 2, 3]\n",
    "    outputVecI = [A, -A, A, -A]\n",
    "    outputVecQ = [A, A, -A, -A]\n",
    "    xI         = lut(data, inputVec, outputVecI)\n",
    "    xQ         = lut(data, inputVec, outputVecQ)\n",
    "\n",
    "    ###########################################\n",
    "    ### Upsample\n",
    "    ### INPUT: modulated values, x\n",
    "    ### OUTPUT: modulated values at sampling rate, x_s\n",
    "    x_s_I = oversample(xI, N)\n",
    "    x_s_Q = oversample(xQ, N)\n",
    "\n",
    "    ###########################################\n",
    "    ### Pulse-shape filter\n",
    "    ### INPUT: modulated values at sampling rate, x_s\n",
    "    ### OUTPUT: baseband transmit signal s\n",
    "    pulse = SRRC(alpha, N, Lp)\n",
    "    s_0_I = np.convolve(x_s_I, pulse, mode='full')\n",
    "    s_0_Q = np.convolve(x_s_Q, pulse, mode='full')\n",
    "\n",
    "    return (s_0_I + 1j*s_0_Q), pulse"
   ]
  },
  {
   "cell_type": "code",
   "execution_count": null,
   "id": "c3c82816",
   "metadata": {
    "id": "c3c82816"
   },
   "outputs": [],
   "source": [
    "# PURPOSE: perform preamble synchronization\n",
    "#          Uses the (complex-valued) preamble signal. The cross-correlation\n",
    "#          of the preamble signal and the received signal (at the time\n",
    "#          when the preamble is received) should have highest magnitude\n",
    "#          at the index delay where the preamble approximately starts.\n",
    "# INPUT:   rx0: received signal (with a frequency offset)\n",
    "#          preambleSignal: complex, known, transmitted preamble signal\n",
    "# OUTPUT:  lagIndex: the index of rx0 where the preamble signal has highest\n",
    "#              cross-correlation\n",
    "#\n",
    "def crossCorrelationMax(rx0, preambleSignal):\n",
    "\n",
    "    # Cross correlate with the preamble to find it in the noisy signal\n",
    "    lags      = signal.correlation_lags(len(rx0), len(preambleSignal), mode='same')\n",
    "    xcorr_out = signal.correlate(rx0, preambleSignal, mode='same')\n",
    "    xcorr_mag = np.abs(xcorr_out)\n",
    "\n",
    "    # There may be two preambles because the packet repeats, and the number\n",
    "    # of recorded samples is much longer than the length of a single packet.\n",
    "    # Here we give the length of the packet in samples, and we don't look for a\n",
    "    # preamble that starts at the very end of the packet (so that we don't run\n",
    "    # out of samples while demodulating the packet.)\n",
    "    length_of_packet = 3200\n",
    "    maxIndex = np.argmax(xcorr_mag[:len(xcorr_mag)-length_of_packet])\n",
    "    lagIndex = lags[maxIndex]\n",
    "\n",
    "    print('Max crosscorrelation with preamble at lag ' + str(lagIndex))\n",
    "\n",
    "    # Plot the selected signal.\n",
    "    plt.figure()\n",
    "    fig, subfigs = plt.subplots(2,1)\n",
    "    short_t = range(lagIndex, lagIndex + len(preambleSignal))\n",
    "    subfigs[0].plot(np.real(rx0), label='Real RX')\n",
    "    subfigs[0].plot(np.imag(rx0), label='Imag RX')\n",
    "    scale_factor = np.mean(np.abs(rx0))/np.mean(np.abs(preambleSignal))\n",
    "    subfigs[0].plot(short_t, scale_factor*np.real(preambleSignal), label='Real Preamble')\n",
    "    subfigs[0].set(ylabel='RX Signal')\n",
    "    subfigs[0].legend()\n",
    "    subfigs[1].plot(lags, xcorr_mag, label='|X-Correlation|')\n",
    "    subfigs[1].legend()\n",
    "    subfigs[1].set(ylabel='|X-Correlation|')\n",
    "    plt.xlabel('Sample Index', fontsize=14)\n",
    "    plt.tight_layout()\n",
    "\n",
    "    # Plot zoomed in to the place where the preamble signal was detected.\n",
    "    plt.figure()\n",
    "    plt.plot(short_t, np.real(rx0[short_t]), label='Real RX Signal')\n",
    "    plt.plot(short_t, np.imag(rx0[short_t]), label='Imag RX Signal')\n",
    "    plt.plot(short_t, scale_factor*np.real(preambleSignal), label='Real Preamble')\n",
    "    plt.ylabel('RX Signal')\n",
    "    plt.xlabel('Sample Index', fontsize=14)\n",
    "    plt.legend()\n",
    "\n",
    "    return lagIndex"
   ]
  },
  {
   "cell_type": "markdown",
   "id": "gZTa2bXVWy4O",
   "metadata": {
    "id": "gZTa2bXVWy4O"
   },
   "source": [
    "First, we create a copy of the preamble signal samples.  Then we find it in the received signal using cross-correlation between the local preamble signal copy and the received signal."
   ]
  },
  {
   "cell_type": "code",
   "execution_count": null,
   "id": "tcb3fHYRw6nI",
   "metadata": {
    "id": "tcb3fHYRw6nI"
   },
   "outputs": [],
   "source": [
    "# Set the parameters of the square-root raised cosine (SRRC) pulse shape\n",
    "N = 8\n",
    "alpha = 0.5\n",
    "Lp = 6"
   ]
  },
  {
   "cell_type": "markdown",
   "id": "upuuE_QRxJdZ",
   "metadata": {
    "id": "upuuE_QRxJdZ"
   },
   "source": [
    "✋ Give the receiver algorithm the knowledge of *how many symbols there are in the packet* by setting `packetLenSymbols`. In real life this might be given in the header. In my assignment, it is something given in the assignment. In the canvas page, it will show a packet layout with the number of bits in each of the preamble, sync word, and data. In total, that is the length of the packet in bits. The `packetLenSymbols` is the length in symbols, so you need to divide by $\\log_2 M$.  "
   ]
  },
  {
   "cell_type": "code",
   "execution_count": null,
   "id": "1e4e496e",
   "metadata": {
    "id": "1e4e496e"
   },
   "outputs": [],
   "source": [
    "A = 3. # Amplitude in constellation diagram; not critical in a QPSK receiver\n",
    "packetLenSymbols =  # use prior knowledge of how many symbols in packet, in total.\n",
    "preambleSignal, pulse = createPreambleSignal(A, N, alpha, Lp)\n",
    "lagIndex = crossCorrelationMax(filtered_rx0, preambleSignal) - N"
   ]
  },
  {
   "cell_type": "raw",
   "id": "a360e356-6601-4e32-bef1-6ba1beb9f3f8",
   "metadata": {
    "id": "fxkuphoLZNCa"
   },
   "source": [
    "✋ **Please check**: You can see from the plots if the preamble is actually found.  If the above plot doesn't actually find a packet, or if you can see the preamble is not perfectly aligned with the start of the packet, then debug the above code before proceeding further. Check in: Ask your instructor before you proceed."
   ]
  },
  {
   "cell_type": "markdown",
   "id": "ce9a1da0",
   "metadata": {
    "id": "ce9a1da0"
   },
   "source": [
    "## Estimation and Correction of Frequency Offset"
   ]
  },
  {
   "cell_type": "markdown",
   "id": "nTGPAGI0wh_7",
   "metadata": {
    "id": "nTGPAGI0wh_7"
   },
   "source": [
    "The difference between the carrier frequency generated by the transmitter and the carrier frequency generated by the receiver is called the carrier *frequency offset*, and denoted Δf. This  frequency offset is observed in the received signal at this point -- its phase rotates over time, a full rotation every 1/Δf. Essentially, our desired received signal is multiplied by exp(j2πΔfnT), where exp() is the exponential function, j is the imaginary number, n is the sample number, and T is the sample period. Most receivers estimate Δf and multiply the signal by exp(-j2πΔfnT) to undo the problem. A typical frequency offset is on the order of a few kHz (1000 Hz).\n",
    "\n",
    "In POWDER, most nodes have white rabbit time and frequency synch enabled. Thus there should be 0 frequency offset if it is working. Sometimes, though, there is a problem and it is not working. It is a good idea to estimate the frequency offset, to make sure. If the frequency offset estimate is on the order of 10 Hz or less, the time sync is almost certainly working (and the non-zero estimate is just because of noise). If the frequency offset is on the order of kHz, then one or more of the nodes is not frequency synched."
   ]
  },
  {
   "cell_type": "code",
   "execution_count": null,
   "id": "642f743e",
   "metadata": {
    "id": "642f743e"
   },
   "outputs": [],
   "source": [
    "# PURPOSE: perform frequency offset estimation and correction.\n",
    "#          Uses the (complex-valued) preamble signal. The product of\n",
    "#          the preamble signal and the received signal (at the time\n",
    "#          when the preamble is received) has a frequency component near\n",
    "#          zero at the frequency offset.  Find it from the max of the DFT.\n",
    "#          We need a very fine resolution on that frequency, so we don't\n",
    "#          use the FFT, we calculate it from the DFT definition.\n",
    "# INPUT:   rx0: received signal (with a frequency offset)\n",
    "#          preambleSignal: complex, known, transmitted preamble signal\n",
    "#          lagIndex: the index of rx0 where the preamble signal has highest\n",
    "#              cross-correlation\n",
    "# OUTPUT:  rx1: Frequency-corrected received signal\n",
    "#          frequencyOffset\n",
    "#\n",
    "def estimateFrequencyOffset(rx0, preambleSignal, lagIndex,debug=False):\n",
    "\n",
    "    # Estimate a frequency offset using the known preamble signal\n",
    "    if len(preambleSignal) < 200:\n",
    "        print(\"estimateFrequencyOffset: Error in Preamble Signal Length\")\n",
    "\n",
    "    # if you don't discard the start and end of the preamble signal, it\n",
    "    # can overlap with the synch word at its tail end, and this will\n",
    "    # cause some errors in the frequency estimate.\n",
    "    discardSamples = 60\n",
    "    middle_of_preamble = preambleSignal[discardSamples:-discardSamples]\n",
    "    N        = len(middle_of_preamble)\n",
    "    # taking the max of 0 and lagIndex+discardSamples for start >=0 rx0 index\n",
    "    startInd = max(0, lagIndex+discardSamples)\n",
    "    rx0_part = np.conjugate(rx0[startInd:(startInd + N)])\n",
    "    prod_rx0_preamble = rx0_part*middle_of_preamble\n",
    "\n",
    "    # Frequencies at which freq content is calc'ed.\n",
    "    # We'll multiply the generated matrix by the data to calculate PSD\n",
    "    # frequencies are normalized to sampling rate\n",
    "    # MUST BE SET BY USER.  For POWDER with frequency synched nodes, we\n",
    "    # expect at most 200e-9 frequency offset, which at center frequency of 3.5 GHz\n",
    "    # and 240k sample rate, is 3.5e9 * 200e-9 / 240e3 = 0.003 Hz.  But we can\n",
    "    # be conservative and make it larger, no problem.  We want to get the offset\n",
    "    # down to at most 5 Hz b/c the packet duration is about 20 ms, so that would\n",
    "    # keep the drift to about 1/10 of a rotation over the whole packet.\n",
    "    maxFreqOffset   = 0.010000\n",
    "    deltaFreqOffset = 0.000005\n",
    "    freqRange    = np.arange(-maxFreqOffset, maxFreqOffset, deltaFreqOffset)\n",
    "    temp         = (-1j*2*np.pi) * freqRange\n",
    "    expMat       = np.transpose(np.array([np.exp(temp*i) for i in np.arange(0,N)]))\n",
    "    # print('expMat.size',expMat.size)\n",
    "    # print('N',N)\n",
    "    # print('len(prod_rx0_preamble)',len(prod_rx0_preamble))\n",
    "    PSD_prod     = np.abs(expMat.dot(prod_rx0_preamble))**2\n",
    "\n",
    "    #if debug:\n",
    "    plt.figure()\n",
    "    plt.plot(250000.0*freqRange,PSD_prod,'r.')\n",
    "    plt.grid('on')\n",
    "    plt.xlabel('Frequency Offset')\n",
    "    plt.ylabel('sqrt PSD')\n",
    "    # plt.show()\n",
    "\n",
    "    maxIndexPSD  = np.argmax(PSD_prod)\n",
    "    maxIndexFreq = freqRange[maxIndexPSD]\n",
    "    print('[estimateFrequencyOffset] Frequency offset estimate: ' + str(maxIndexFreq*samp_rate) + ' Hz')\n",
    "\n",
    "    return maxIndexFreq\n",
    "\n",
    "\n",
    "# PURPOSE: perform frequency offset correction.\n",
    "# INPUT:   rx0: received signal (with a frequency offset)\n",
    "#          maxIndexFreq: The frequency offset estimate\n",
    "# OUTPUT:  rx1: Frequency-corrected received signal\n",
    "#\n",
    "def correctFrequencyOffset(rx0, maxIndexFreq):\n",
    "\n",
    "    # Do frequency correction on the input signal\n",
    "    expTerm = np.exp((1j*2*np.pi * maxIndexFreq) * np.arange(len(rx0)))\n",
    "    rx1 = expTerm * rx0\n",
    "    return rx1"
   ]
  },
  {
   "cell_type": "code",
   "execution_count": null,
   "id": "1382508c",
   "metadata": {
    "id": "1382508c"
   },
   "outputs": [],
   "source": [
    "freqOffsetEst = estimateFrequencyOffset(filtered_rx0, preambleSignal, lagIndex)"
   ]
  },
  {
   "cell_type": "code",
   "execution_count": null,
   "id": "u7T6NNvrluEt",
   "metadata": {
    "id": "u7T6NNvrluEt"
   },
   "outputs": [],
   "source": [
    "# Now perform frequency correction, if so desired.\n",
    "# If the signal has medium to low SNR, this frequency offset estimation method\n",
    "# isn't perfect, so you might want to skip the correctFrequencyOffset command.\n",
    "# I do this by calling the frequency correction function with \\Delta f = 0 Hz.\n",
    "rx1 = correctFrequencyOffset(filtered_rx0, 0)   # Don't do frequency correction.\n",
    "#rx1 = correctFrequencyOffset(filtered_rx0, freqOffsetEst). # Do frequency correction."
   ]
  },
  {
   "cell_type": "markdown",
   "id": "b0aed404",
   "metadata": {
    "id": "b0aed404"
   },
   "source": [
    "## Phase synchronization\n",
    "\n",
    "Here we make sure that the signal has an eye diagram that shows the signal with an _opening_ at the correct symbol sampling times. If the opening is approximately at the center of the plot, we're on track to have a downsampling operation that takes the symbol values at the right times.\n",
    "\n",
    "We check this by plotting the eye diagram and the constellation plot, so first we have functions to create these plots."
   ]
  },
  {
   "cell_type": "code",
   "execution_count": null,
   "id": "e7b23705",
   "metadata": {
    "id": "e7b23705"
   },
   "outputs": [],
   "source": [
    "# PURPOSE: Plot an eye diagram of a signal\n",
    "# INPUT: y_s: vector of signal samples out of the matched filter\n",
    "#        N: the number of samples per symbol. Assumes that time 0 is at sample\n",
    "#        y_s[0]. If not, you must send in an offset integer.\n",
    "# OUTPUT: none\n",
    "def plot_eye_diagram(y_s, N, offset=0):\n",
    "    start_indices = range(int(np.floor(N/2.0)) + offset - 1, len(y_s) - N, N)\n",
    "    time_vals     = np.arange(-0.5, 0.5+1.0/N, 1.0/N)\n",
    "\n",
    "    plt.figure()\n",
    "    for i, start_i in enumerate(start_indices):\n",
    "        plt.plot(time_vals, y_s[start_i:(start_i+N+1)], 'b-', linewidth=2)\n",
    "\n",
    "    plt.xlabel(r'Time $t/T_s$', fontsize=16)\n",
    "    plt.xlim([-0.5, 0.5])\n",
    "    plt.ylabel('Matched Filter Output', fontsize=16)\n",
    "    plt.grid(True)\n",
    "    plt.show()\n",
    "\n",
    "# PURPOSE: Plot the signal symbol samples on a complex plane\n",
    "# INPUT:   Received complex values (output of matched filter downsampled)\n",
    "# OUTPUT:  none\n",
    "def constellation_plot(rx4):\n",
    "    # I like a square plot for the constellation so that both dimensions look equal\n",
    "    plt.figure(figsize=(5,5))\n",
    "    ax = plt.gca()\n",
    "    ax.set_aspect(1.0) # Make it a square 1x1 ratio plot\n",
    "    plt.plot(np.real(rx4), np.imag(rx4),'ro')\n",
    "    plt.ylabel('Imag(Symbol Sample)', fontsize=14)\n",
    "    plt.xlabel('Real(Symbol Sample)', fontsize=14)\n",
    "    plt.grid('on')\n",
    "    plt.tight_layout()"
   ]
  },
  {
   "cell_type": "markdown",
   "id": "czgDr3CV136N",
   "metadata": {
    "id": "czgDr3CV136N"
   },
   "source": [
    "The preamble starts Lp×N after the lagIndex because Lp×N is the center of pulse shape in the pulse vector. It is essentially the latency introduced by having a 2Lp×N long pulse centered at time 0.\n",
    "\n",
    "My simple phase synch algorithm uses the fact that the odd numbered preamble symbols are at an angle of 45 degrees. If they are not, they should be rotated to be at an angle of 45 degrees. If we only use one preamble symbol value, its noise will affect our phase synch too much. I thus use the fact that there are 32 preamble symbols or 16 odd-numbered ones. Average all of the odd numbered symbol values together to get their angle."
   ]
  },
  {
   "cell_type": "code",
   "execution_count": null,
   "id": "fgYnXifBy1y0",
   "metadata": {
    "id": "fgYnXifBy1y0"
   },
   "outputs": [],
   "source": [
    "preambleStart = lagIndex + Lp*N + 1   # There's also the delay b/c the SRRC pulse is this long.\n",
    "\n",
    "#############################################################################\n",
    "# Estimate the Phase of the odd preamble symbols and then correct it.\n",
    "# Every odd (1, 3, ...) preamble symbol, should be at an angle of pi/4.\n",
    "# Average a few of the first symbol values, find the angle of that average\n",
    "numFirstFew = 16\n",
    "oddPreambleSymbols =rx1[preambleStart+N:preambleStart+N+2*N*numFirstFew:(2*N)]\n",
    "avgOddPreambleSymbol = np.mean(oddPreambleSymbols)\n",
    "\n",
    "# For debug to make sure we're getting the expected preamble and sync symbols\n",
    "plt.figure()\n",
    "fig, subfigs = plt.subplots(2,1)\n",
    "subfigs[0].plot(range(numFirstFew), np.real(oddPreambleSymbols), 'bs', range(numFirstFew), np.imag(oddPreambleSymbols), 'ro')\n",
    "subfigs[0].set(ylabel='Sample Value')\n",
    "subfigs[1].plot(range(numFirstFew), (180/np.pi)*np.angle(oddPreambleSymbols),'.')\n",
    "subfigs[1].set(ylabel='Odd Preamble Symbol #')\n",
    "plt.ylabel('Sample Angle (deg)')\n",
    "\n",
    "# We know the correct angle for the odd preamble symbols is pi/4 radians.\n",
    "# Calc the difference between that and the angle we see in the odd preamble symbols.\n",
    "correctionAngle = np.pi/4 - np.angle(avgOddPreambleSymbol)\n",
    "print(\"Turn signal by correction angle of: %f degrees\" % (correctionAngle*180/np.pi))"
   ]
  },
  {
   "cell_type": "markdown",
   "id": "FPoF-hiIz76S",
   "metadata": {
    "id": "FPoF-hiIz76S"
   },
   "source": [
    "✋ write code to rotate (each sample of) the vector rx1 by a phase angle of correctionAngle radians. Recall that rotation is multiplication by exp(1j*angle). The input is rx1. Call the result rx2."
   ]
  },
  {
   "cell_type": "code",
   "execution_count": null,
   "id": "yHpagRUGzS1F",
   "metadata": {
    "id": "yHpagRUGzS1F"
   },
   "outputs": [],
   "source": [
    "# Correct it: Multiply each sample by exp(j*correctionAngle)\n",
    "\n",
    "\n",
    "print(\"New angle of first odd preamble symbol: %f degrees\" % (np.angle(rx2[preambleStart+N], deg=True)))"
   ]
  },
  {
   "cell_type": "markdown",
   "id": "mdJwYwkw0tF9",
   "metadata": {
    "id": "mdJwYwkw0tF9"
   },
   "source": [
    "Plotting the eye diagram shows that:\n",
    "1. your signal is not too noisy. If it is too noisy, you will not see any opening.\n",
    "2. you've synchronized in time correctly. You can see this if the \"eye\" (opening) is centered at 0 on the plot.\n",
    "\n",
    "We typically look at two eye diagrams, one for real and one for imaginary. You can change it below to see one or the other."
   ]
  },
  {
   "cell_type": "code",
   "execution_count": null,
   "id": "CUp3_87SzmrL",
   "metadata": {
    "id": "CUp3_87SzmrL"
   },
   "outputs": [],
   "source": [
    "# Plot the Eye Diagram\n",
    "plot_eye_diagram(np.real(rx2[preambleStart:preambleStart + packetLenSymbols*N]), N, 0)"
   ]
  },
  {
   "cell_type": "markdown",
   "id": "HID7GRM98MLi",
   "metadata": {
    "id": "HID7GRM98MLi"
   },
   "source": [
    "✋ Write code to subsample `rx2` by a factor of `N`. Call the output `rx3`. Start at `preambleStart` as the first sample to take. Then take every `N`th sample, until you have a total of `packetLenSymbols`."
   ]
  },
  {
   "cell_type": "code",
   "execution_count": null,
   "id": "fe33716c",
   "metadata": {
    "id": "fe33716c",
    "scrolled": true
   },
   "outputs": [],
   "source": [
    "###########################################\n",
    "# Downsample\n",
    "# INPUT: Synched matched filter output\n",
    "# OUTPUT: Symbol Samples (at integer multiples of the symbol period N)\n",
    "# Output rx3 should be of length packetLenSymbols, put in an explicit end to\n",
    "# the subsampling to ensure this length.\n",
    "\n",
    "\n",
    "# Check that you output a vector length packetLenSymbols\n",
    "print(len(rx3))"
   ]
  },
  {
   "cell_type": "markdown",
   "id": "hoVlS-FW82rS",
   "metadata": {
    "id": "hoVlS-FW82rS"
   },
   "source": [
    "✋ Write code to multiply `rx3` by a constant so that its average magnitude (absolute value) is about 1. Call the output `rx4`."
   ]
  },
  {
   "cell_type": "code",
   "execution_count": null,
   "id": "erq-lQ6h8GC1",
   "metadata": {
    "id": "erq-lQ6h8GC1"
   },
   "outputs": [],
   "source": [
    "###########################################\n",
    "# Digital automatic gain control (AGC)\n",
    "# OUTPUT: symbol values that have magnitude (abs) close to  1\n",
    "#   Note magnitude = sqrt( real**2 + imag**2 )\n",
    "\n"
   ]
  },
  {
   "cell_type": "code",
   "execution_count": null,
   "id": "Ry2gwOGR1xM0",
   "metadata": {
    "id": "Ry2gwOGR1xM0"
   },
   "outputs": [],
   "source": [
    "## Plot the sample values on the complex plane to see if they match the\n",
    "# Contellation diagram plot from the assignment. Samples at zero are a problem.\n",
    "# If the signal is too noisy, and the \"blobs\" of dots are running into each\n",
    "# other, this is also a problem caused by a low SNR (or perhaps other issues).\n",
    "constellation_plot(rx4)"
   ]
  },
  {
   "cell_type": "markdown",
   "id": "835b6e77",
   "metadata": {
    "id": "835b6e77"
   },
   "source": [
    "## Symbol Detection\n",
    "\n",
    "The maximum _a posteriori_ (MAP) receiver finds the  symbol in the constellation that is closest in the Euclidean sense to the measured symbol value.  That is the lowest probability of  error decision that can be made, assuming that each symbol is equally likely, and the noise is zero-mean additive Gaussian noise.  Our `findClosestComplex` implements this MAP detector.  Then the `mary2binary` converts the symbols to bits."
   ]
  },
  {
   "cell_type": "code",
   "execution_count": null,
   "id": "2e1953fd",
   "metadata": {
    "id": "2e1953fd"
   },
   "outputs": [],
   "source": [
    "# Purpose: Convert M-ary data to binary data\n",
    "#          each m-ary value input in \"data\" is converted to\n",
    "#          log2(M) binary values.\n",
    "# INPUT: M-ary digit vector\n",
    "# OUTPUT: Binary digit vector, with length equal to the number\n",
    "#         of values in data multiplied by log2(M)\n",
    "def mary2binary(data, M):\n",
    "    length = len(data) # number of values in data\n",
    "    log2M = round(np.log2(M)) # integer number of bits per data value\n",
    "    format_string = '0' + str(log2M) + 'b'\n",
    "    binarydata = np.zeros((1,length*log2M))\n",
    "    count = 0\n",
    "    for each in data:\n",
    "        binval = format(int(each), format_string)\n",
    "        for i in range(log2M):\n",
    "            binarydata[0][count+i] = int(binval[i])\n",
    "        count = count + log2M\n",
    "    return binarydata"
   ]
  },
  {
   "cell_type": "markdown",
   "id": "_3xxYfjn9zkG",
   "metadata": {
    "id": "_3xxYfjn9zkG"
   },
   "source": [
    "✋ The outputVec must match the constellation diagram given. Look at index n of outputVec and see that it matches the coordinates of the binary version of the number i on the constellation diagram. Eg., outputVec[2] should have the coordinates of the symbol labelled with bits \"10\" on the constellation diagram. You don't need to change this if everything is correct.\n",
    "\n",
    "Note that with QPSK, there is no need to be correct in amplitude, since the information is essentially in the angle of the received symbol value."
   ]
  },
  {
   "cell_type": "code",
   "execution_count": null,
   "id": "7earCx1f6lcz",
   "metadata": {
    "id": "7earCx1f6lcz"
   },
   "outputs": [],
   "source": [
    "###########################################\n",
    "# Symbol Decisions\n",
    "# INPUT: Symbol Samples\n",
    "# OUTPUT: Bits\n",
    "\n",
    "# Fill this part out on your own.\n",
    "\n",
    "\n",
    "\n",
    "\n",
    "print('The decoded symbols are: ', mary_out.astype(int))\n",
    "binary_out = mary2binary(mary_out,4)[0]\n",
    "print('The Decoded data bits are: ', binary_out)"
   ]
  },
  {
   "cell_type": "markdown",
   "id": "e1c867a7",
   "metadata": {
    "id": "e1c867a7"
   },
   "source": [
    "## Message extraction"
   ]
  },
  {
   "cell_type": "markdown",
   "id": "zU3fjHSAL8S2",
   "metadata": {
    "id": "zU3fjHSAL8S2"
   },
   "source": [
    "Plot a comparison of what the first symbols should be, compared to what they are. If the received symbol estimates do not agree with the known preamble and sync word, then you should debug prior to here."
   ]
  },
  {
   "cell_type": "code",
   "execution_count": null,
   "id": "eYLcjWF6L7XU",
   "metadata": {
    "id": "eYLcjWF6L7XU"
   },
   "outputs": [],
   "source": [
    "###########################################\n",
    "# Sync Word Discovery and Data Bits Extraction\n",
    "#\n",
    "M           = 4\n",
    "k           = np.log2(M)\n",
    "\n",
    "syncWord    = np.asarray([1, 1, 1, 0, 1, 0, 1, 1, 1, 0, 0, 1, 0, 0, 0, 0])\n",
    "preamble    = np.concatenate( np.repeat( [[1, 1, 0, 0, 1, 1, 0, 0 ]], 8, axis=0), axis=None)\n",
    "symbolsForHeader = binary2mary(np.hstack([preamble, syncWord]), M)\n",
    "headerLen   = len(syncWord) + len(preamble)\n",
    "\n",
    "# Plot a comparison of what the first symbols should be, compared to what they are.\n",
    "# If the received symbol estimates do not agree with the known preamble and sync\n",
    "# word, then you should debug prior to here.\n",
    "plt.figure()\n",
    "plt.plot(range(len(symbolsForHeader)), symbolsForHeader, 'bs', label='Sent')\n",
    "plt.plot(range(len(mary_out[:48])), mary_out[:48], 'r.', label='Received')\n",
    "plt.legend(fontsize=14)\n",
    "plt.xlabel('Symbol #',fontsize=14)\n",
    "plt.ylabel('Symbol Value',fontsize=14)\n",
    "plt.grid(True)\n",
    "\n",
    "rxDataBits = binary_out[headerLen:]\n",
    "knownDataBitLength = packetLenSymbols*k - headerLen\n",
    "\n",
    "print(\"There are %d bits in the received data.\", len(rxDataBits))\n",
    "print(\"knownDataBitLength = \", knownDataBitLength)"
   ]
  },
  {
   "cell_type": "code",
   "execution_count": null,
   "id": "oErN2OcoSB-A",
   "metadata": {
    "id": "oErN2OcoSB-A"
   },
   "outputs": [],
   "source": [
    "#\n",
    "# PURPOSE:  Convert a vector of (float) zeros and ones to a string (char array)\n",
    "# INPUT:    Expects a row vector of zeros and ones, a multiple of 7 length\n",
    "#   The most significant bit of each character is always first.\n",
    "# OUTPUT:   A string\n",
    "#\n",
    "def binvector2str_v2(binvector):\n",
    "\n",
    "    totalbits = len(binvector)\n",
    "    if ((totalbits%7) > 1e-6):\n",
    "        print('Length of bit stream must be a multiple of 7 to convert to a string.')\n",
    "        print('  You must be missing a few bits or have a few extra.')\n",
    "\n",
    "    # We are using 7 bits per character in ASCII encoding\n",
    "    # Put 7 1/0s into each row of the row_per_char 2D array\n",
    "    row_per_char = binvector.reshape( totalbits//7, 7)\n",
    "\n",
    "    str_out = ''  # Initialize character vector\n",
    "    for bit_ints in row_per_char:\n",
    "        # Convert the vector of 1.0/0.0 into a string of '1' and '0'\n",
    "        bitstring   = \"\".join(str(int(z)) for z in bit_ints)\n",
    "        # Convert the string into an integer using base 2\n",
    "        # then into an ascii character\n",
    "        # Then add it to the end of str_out\n",
    "        str_out    += chr(int( bitstring, 2))\n",
    "\n",
    "    return str_out"
   ]
  },
  {
   "cell_type": "code",
   "execution_count": null,
   "id": "e21f931d",
   "metadata": {
    "id": "e21f931d"
   },
   "outputs": [],
   "source": [
    "###########################################################################\n",
    "# Remember, rxDataBits must be a multiple of 7 to get characters out.\n",
    "print('The Data Bits are:\\n',rxDataBits)\n",
    "extract_message = binvector2str_v2(rxDataBits)\n",
    "print('The Extracted String is:\\n',extract_message)"
   ]
  },
  {
   "cell_type": "markdown",
   "id": "CadBsL91DFsF",
   "metadata": {
    "id": "CadBsL91DFsF"
   },
   "source": [
    "✋ If the text is readable, or almost readable, you're successful. There might be some bit errors, and thus character errors, if the SNR was not high enough. There are more than one link, and the rx signal was recorded multiple times. You could change the txloc, rxloc, and repNum in the \"Pick Transmitter / Receiver Pair\" section.\n",
    "\n",
    "If *all* of the characters are in error, there is probably a bigger problem. For example, there might be an error in what bit strings the code is assigning to each symbol. Or the synchronization might be off by one symbol. Or the phase synchronization may not have worked -- if the code applied the wrong phase shift, then all of the packet's symbols would be rotated and thus detected to be the wrong symbol."
   ]
  }
 ],
 "metadata": {
  "colab": {
   "provenance": []
  },
  "kernelspec": {
   "display_name": "Python 3 (ipykernel)",
   "language": "python",
   "name": "python3"
  },
  "language_info": {
   "codemirror_mode": {
    "name": "ipython",
    "version": 3
   },
   "file_extension": ".py",
   "mimetype": "text/x-python",
   "name": "python",
   "nbconvert_exporter": "python",
   "pygments_lexer": "ipython3",
   "version": "3.13.5"
  }
 },
 "nbformat": 4,
 "nbformat_minor": 5
}
